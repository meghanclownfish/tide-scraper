{
 "cells": [
  {
   "cell_type": "code",
   "execution_count": null,
   "id": "3c93e54c-97f5-4d4c-af2d-79b1bd6f1a5a",
   "metadata": {},
   "outputs": [],
   "source": [
    "# https://www.usharbors.com/harbor/maine/winter-harbor-me/tides/?tide=2023-07#monthly-tide-chart"
   ]
  },
  {
   "cell_type": "code",
   "execution_count": 2,
   "id": "79672e84-dae9-4b9b-b6f1-d6560348d80b",
   "metadata": {},
   "outputs": [],
   "source": [
    "from selenium import webdriver\n",
    "from selenium.webdriver.common.by import By\n",
    "from selenium.webdriver.common.keys import Keys\n",
    "import os\n",
    "import pandas as pd\n",
    "import numpy as np\n",
    "from datetime import datetime, timedelta"
   ]
  },
  {
   "cell_type": "code",
   "execution_count": 3,
   "id": "ec9c0294-402f-4f24-acc2-95b697f47711",
   "metadata": {},
   "outputs": [],
   "source": [
    "def get_tides(year, month, state, location):\n",
    "    driver = webdriver.Safari()\n",
    "    url = \"https://www.usharbors.com/harbor/\" + state + \"/\" + location + \"/tides/?tide=\" + year + \"-\" + month\n",
    "    driver.get(url)\n",
    "    df = pd.read_html(driver.page_source)[0]\n",
    "    df = df.iloc[:, :-9]\n",
    "    df.columns = [\"date_index\", \"date_week\", \"high_am\", \"high_am_ft\", \"high_pm\", \"high_pm_ft\"]\n",
    "    df = df.iloc[:-2]\n",
    "    df.loc[:, 'year'] = year\n",
    "    df.loc[:, 'month'] = month\n",
    "    df.loc[:,\"datetime_am\"] = pd.to_datetime(df.iloc[:,7] +\"/\"+ df.iloc[:,0] + \"/\" + df.iloc[:,6] +\" \"+\n",
    "                                         df.iloc[:,2], format = \"%m/%d/%Y %I:%M\")\n",
    "    df.loc[:,\"datetime_pm\"] = pd.to_datetime(df.iloc[:,7] +\"/\"+ df.iloc[:,0] + \"/\" + df.iloc[:,6] +\" \"+\n",
    "                                             df.iloc[:,4], format = \"%m/%d/%Y %I:%M\") + timedelta(hours = 12)\n",
    "    df['date_index'] = df['date_index'].astype('Int64')\n",
    "    df = pd.melt(df, id_vars=['date_index', 'year', 'month'], value_vars=['datetime_am', 'datetime_pm'])\n",
    "    df = df.sort_values(by=['date_index'])\n",
    "    df.loc[:,\"start_water\"] = df.loc[:,\"value\"] + timedelta(hours = -2)\n",
    "    df.loc[:,\"end_water\"] = df.loc[:,\"value\"] + timedelta(hours = 2)\n",
    "    driver.close()\n",
    "    return(df)"
   ]
  },
  {
   "cell_type": "code",
   "execution_count": 16,
   "id": "727211f2-d47a-4460-922f-47f41c2fe74a",
   "metadata": {},
   "outputs": [],
   "source": [
    "tides_2023_03 = get_tides(\"2023\", \"07\", \"maine\", \"winter-harbor-me\")"
   ]
  },
  {
   "cell_type": "code",
   "execution_count": 17,
   "id": "d674c688-a8ca-49bd-b09a-6e76cc8c05d3",
   "metadata": {},
   "outputs": [],
   "source": [
    "tides_2023_03.to_csv('7-23-tides-winter-harbor.csv')"
   ]
  }
 ],
 "metadata": {
  "kernelspec": {
   "display_name": "Python 3 (ipykernel)",
   "language": "python",
   "name": "python3"
  },
  "language_info": {
   "codemirror_mode": {
    "name": "ipython",
    "version": 3
   },
   "file_extension": ".py",
   "mimetype": "text/x-python",
   "name": "python",
   "nbconvert_exporter": "python",
   "pygments_lexer": "ipython3",
   "version": "3.9.16"
  }
 },
 "nbformat": 4,
 "nbformat_minor": 5
}
